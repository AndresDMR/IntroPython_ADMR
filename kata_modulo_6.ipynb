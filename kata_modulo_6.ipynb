{
 "cells": [
  {
   "cell_type": "markdown",
   "metadata": {},
   "source": [
    "## Ejercicio 1: Crear y usar listas de python"
   ]
  },
  {
   "cell_type": "code",
   "execution_count": 11,
   "metadata": {},
   "outputs": [
    {
     "name": "stdout",
     "output_type": "stream",
     "text": [
      "Hay 9 planetas en el sistema solar\n",
      "El último planeta es pluton\n"
     ]
    }
   ],
   "source": [
    "planetas = ['mercurio', 'venus', 'tierra', 'marte','jupiter', 'saturno', 'urano', 'neptuno']\n",
    "planetas.append('pluton')\n",
    "N_planetas = len(planetas)\n",
    "U_planeta = planetas[8]\n",
    "\n",
    "print('Hay '+str(N_planetas)+' planetas en el sistema solar')\n",
    "print('El último planeta es '+str(U_planeta))"
   ]
  },
  {
   "cell_type": "markdown",
   "metadata": {},
   "source": [
    "## Ejercicio 2: Trabajando con datos de una lista"
   ]
  },
  {
   "cell_type": "code",
   "execution_count": 16,
   "metadata": {},
   "outputs": [
    {
     "name": "stdout",
     "output_type": "stream",
     "text": [
      "Ingresa un planeta para buscarlo\n",
      "Los planetas más ceracanos al sol son: ['mercurio', 'venus', 'tierra']\n",
      "Los planetas más lejanos al sol son: ['jupiter', 'saturno', 'urano', 'neptuno', 'pluton']\n"
     ]
    }
   ],
   "source": [
    "entrada = input(print('Ingresa un planeta para buscarlo'))\n",
    "entrada.lower()\n",
    "I_entrada = planetas.index(entrada)\n",
    "\n",
    "#Planetas mas cercanos al sol\n",
    "P_cercanos = planetas[0:I_entrada]\n",
    "\n",
    "#Planetas mas lejanos al sol\n",
    "P_lejanos = planetas[I_entrada+1:]\n",
    "\n",
    "print('Los planetas más ceracanos al sol son: '+ str(P_cercanos))\n",
    "print('Los planetas más lejanos al sol son: '+str(P_lejanos))"
   ]
  }
 ],
 "metadata": {
  "interpreter": {
   "hash": "5b5f4bbf40c71bff6d8cff5d32a1db518816640eb9d736357ec4eee60ab2ed6f"
  },
  "kernelspec": {
   "display_name": "Python 3.7.9 64-bit",
   "language": "python",
   "name": "python3"
  },
  "language_info": {
   "codemirror_mode": {
    "name": "ipython",
    "version": 3
   },
   "file_extension": ".py",
   "mimetype": "text/x-python",
   "name": "python",
   "nbconvert_exporter": "python",
   "pygments_lexer": "ipython3",
   "version": "3.7.9"
  },
  "orig_nbformat": 4
 },
 "nbformat": 4,
 "nbformat_minor": 2
}
