{
 "cells": [
  {
   "cell_type": "markdown",
   "metadata": {},
   "source": [
    "## Ejercicio 1: Utilizar operadores aritméticos"
   ]
  },
  {
   "cell_type": "code",
   "execution_count": 1,
   "metadata": {},
   "outputs": [
    {
     "name": "stdout",
     "output_type": "stream",
     "text": [
      "La distancia entre la tierra y júpiter es de 390577533.93 millas\n"
     ]
    }
   ],
   "source": [
    "d_tierra=149597870 #Km\n",
    "d_jupiter=778547200 #Km\n",
    "\n",
    "d_planetas = (d_jupiter - d_tierra)*0.621\n",
    "print('La distancia entre la tierra y júpiter es de '+str(d_planetas)+' millas')\n"
   ]
  },
  {
   "cell_type": "markdown",
   "metadata": {},
   "source": [
    "## Ejercicio 2: convierte cadenas en números y usa valores absolutos"
   ]
  },
  {
   "cell_type": "code",
   "execution_count": 5,
   "metadata": {},
   "outputs": [
    {
     "name": "stdout",
     "output_type": "stream",
     "text": [
      "Ingresa la distancia del planeta 1 al sol\n",
      "Ingresa la distancia del planeta 2 al sol\n",
      "La distancia entre planentas es de 6.21 Millas\n"
     ]
    }
   ],
   "source": [
    "d1 = int(input(print('Ingresa la distancia del planeta 1 al sol'))) #Km\n",
    "d2 = int(input(print('Ingresa la distancia del planeta 2 al sol'))) #km\n",
    "d_planetas = abs(d1 - d2)*0.621\n",
    "print('La distancia entre planentas es de '+str(d_planetas)+' Millas')"
   ]
  }
 ],
 "metadata": {
  "interpreter": {
   "hash": "5b5f4bbf40c71bff6d8cff5d32a1db518816640eb9d736357ec4eee60ab2ed6f"
  },
  "kernelspec": {
   "display_name": "Python 3.7.9 64-bit",
   "language": "python",
   "name": "python3"
  },
  "language_info": {
   "codemirror_mode": {
    "name": "ipython",
    "version": 3
   },
   "file_extension": ".py",
   "mimetype": "text/x-python",
   "name": "python",
   "nbconvert_exporter": "python",
   "pygments_lexer": "ipython3",
   "version": "3.7.9"
  },
  "orig_nbformat": 4
 },
 "nbformat": 4,
 "nbformat_minor": 2
}
