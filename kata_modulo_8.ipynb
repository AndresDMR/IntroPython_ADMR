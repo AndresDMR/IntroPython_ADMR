{
 "cells": [
  {
   "cell_type": "markdown",
   "metadata": {},
   "source": [
    "## Ejercicio 1: Creación de diccionarios de Python"
   ]
  },
  {
   "cell_type": "code",
   "execution_count": null,
   "metadata": {},
   "outputs": [],
   "source": [
    "planet = {\n",
    "    'name': 'mars',\n",
    "    'moons': 2\n",
    "}\n",
    "print(planet.get('name'),'\\n',planet.get('moons'))\n",
    "#print(planet['name'],'\\n',planet['moons'])"
   ]
  },
  {
   "cell_type": "code",
   "execution_count": 19,
   "metadata": {},
   "outputs": [
    {
     "name": "stdout",
     "output_type": "stream",
     "text": [
      "Nombre del planeta:  mars \n",
      " Circunferencia polar:  6752\n"
     ]
    }
   ],
   "source": [
    "planet['circunferencia'] = {\n",
    "    'polar': 6752,\n",
    "    'equatorial': 6792\n",
    "}\n",
    "print('Nombre del planeta: ',planet['name'],'\\n','Circunferencia polar: ', planet['circunferencia']['polar'])"
   ]
  },
  {
   "cell_type": "code",
   "execution_count": 22,
   "metadata": {},
   "outputs": [
    {
     "name": "stdout",
     "output_type": "stream",
     "text": [
      "name :  mars\n",
      "moons :  2\n",
      "circunferencia :  {'polar': 6752, 'equatorial': 6792}\n"
     ]
    }
   ],
   "source": [
    "#Mostrar todos los valores del diccionario con un for y .keys()\n",
    "for key in planet.keys():\n",
    "    print(key,': ', planet[key])"
   ]
  },
  {
   "cell_type": "markdown",
   "metadata": {},
   "source": [
    "## Ejercicio 2: Programación dinámica con diccionarios"
   ]
  },
  {
   "cell_type": "code",
   "execution_count": 30,
   "metadata": {},
   "outputs": [
    {
     "name": "stdout",
     "output_type": "stream",
     "text": [
      "Average:  17.833333333333332\n"
     ]
    }
   ],
   "source": [
    "planet_moons = {\n",
    "    'mercury': 0,\n",
    "    'venus': 0,\n",
    "    'earth': 1,\n",
    "    'mars': 2,\n",
    "    'jupiter': 79,\n",
    "    'saturn': 82,\n",
    "    'uranus': 27,\n",
    "    'neptune': 14,\n",
    "    'pluto': 5,\n",
    "    'haumea': 2,\n",
    "    'makemake': 1,\n",
    "    'eris': 1\n",
    "}\n",
    "    #Obtener los valores del diccionario sin sus claves:\n",
    "#moons = planet_moons.values()\n",
    "#print(moons)\n",
    "\n",
    "moons = 0 #Contador inicialiazado en cero\n",
    "\n",
    "for value in planet_moons.values():\n",
    "    moons = moons + value\n",
    "\n",
    "planets = len(planet_moons)\n",
    "\n",
    "total_moons = moons\n",
    "average = total_moons/planets\n",
    "print('Average: ',average)"
   ]
  }
 ],
 "metadata": {
  "interpreter": {
   "hash": "5b5f4bbf40c71bff6d8cff5d32a1db518816640eb9d736357ec4eee60ab2ed6f"
  },
  "kernelspec": {
   "display_name": "Python 3.7.9 64-bit",
   "language": "python",
   "name": "python3"
  },
  "language_info": {
   "codemirror_mode": {
    "name": "ipython",
    "version": 3
   },
   "file_extension": ".py",
   "mimetype": "text/x-python",
   "name": "python",
   "nbconvert_exporter": "python",
   "pygments_lexer": "ipython3",
   "version": "3.7.9"
  },
  "orig_nbformat": 4
 },
 "nbformat": 4,
 "nbformat_minor": 2
}
