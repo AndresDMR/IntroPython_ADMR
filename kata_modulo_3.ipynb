{
 "cells": [
  {
   "cell_type": "markdown",
   "metadata": {},
   "source": [
    "## Información sobre asteroides"
   ]
  },
  {
   "cell_type": "code",
   "execution_count": 5,
   "metadata": {},
   "outputs": [
    {
     "name": "stdout",
     "output_type": "stream",
     "text": [
      "Asteroide a velocidad peligrosa\n"
     ]
    }
   ],
   "source": [
    "V_asteroide = 49 #Km/s\n",
    "\n",
    "if V_asteroide > 25:\n",
    "    print(\"Asteroide a velocidad peligrosa\")\n",
    "else:\n",
    "    print(\"Asteroide a velocidad normal\")"
   ]
  },
  {
   "cell_type": "code",
   "execution_count": 10,
   "metadata": {},
   "outputs": [
    {
     "name": "stdout",
     "output_type": "stream",
     "text": [
      "¡Busca un ateroide en el cielo! \n"
     ]
    }
   ],
   "source": [
    "V_asteroide = 21 #Km/s\n",
    "\n",
    "if V_asteroide == 20:\n",
    "    print(\"¡Mira al cielo en busca de un asteroide! \")\n",
    "elif V_asteroide > 20:\n",
    "    print(\"¡Busca un asteroide en el cielo! \")\n",
    "else:\n",
    "    print(\"No se ve ningún asteroide\")"
   ]
  },
  {
   "cell_type": "code",
   "execution_count": 20,
   "metadata": {},
   "outputs": [
    {
     "name": "stdout",
     "output_type": "stream",
     "text": [
      "Keep calm and come tacos\n"
     ]
    }
   ],
   "source": [
    "V_asteroide = 15 #Km/s\n",
    "T_asteroide = 20 #m\n",
    "\n",
    "if V_asteroide > 25 and T_asteroide >25:\n",
    "    print(\"¡Se hacerca un asteroide peligroso!\")\n",
    "elif V_asteroide >= 20:\n",
    "    print(\"¡Mira una luz mágica! \") \n",
    "elif T_asteroide <= 25:\n",
    "    print(\"Keep calm and come tacos\")\n",
    "else:\n",
    "    print(\"Keep calm and come tacos\")\n"
   ]
  }
 ],
 "metadata": {
  "interpreter": {
   "hash": "5b5f4bbf40c71bff6d8cff5d32a1db518816640eb9d736357ec4eee60ab2ed6f"
  },
  "kernelspec": {
   "display_name": "Python 3.7.9 64-bit",
   "language": "python",
   "name": "python3"
  },
  "language_info": {
   "codemirror_mode": {
    "name": "ipython",
    "version": 3
   },
   "file_extension": ".py",
   "mimetype": "text/x-python",
   "name": "python",
   "nbconvert_exporter": "python",
   "pygments_lexer": "ipython3",
   "version": "3.7.9"
  },
  "orig_nbformat": 4
 },
 "nbformat": 4,
 "nbformat_minor": 2
}
