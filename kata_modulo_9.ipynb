{
 "cells": [
  {
   "cell_type": "markdown",
   "metadata": {},
   "source": [
    "## Ejercicio 1: Trabajar con argumentos en funciones"
   ]
  },
  {
   "cell_type": "code",
   "execution_count": 44,
   "metadata": {},
   "outputs": [],
   "source": [
    "#Función informe y promedio:\n",
    "\n",
    "def f_combustible (lec1, lec2, lec3):\n",
    "    prom = (lec1 + lec2 + lec3) / 3\n",
    "    return f\"\"\"\"Reporte:\n",
    "    Promedio: {prom}%\n",
    "    Tanque 1: {lec1}%\n",
    "    Tanque 2: {lec2}% \n",
    "    Tanque 3: {lec3}%\"\"\"\n",
    "\n",
    "    #print(f_combustible(1,2,3))"
   ]
  },
  {
   "cell_type": "code",
   "execution_count": 45,
   "metadata": {},
   "outputs": [],
   "source": [
    "#Función promedio:\n",
    "\n",
    "def f_prom (lec1, lec2, lec3):\n",
    "    prom = (lec1 + lec2 + lec3) / 3\n",
    "    return f\"Combustible: {prom} Litros\"\n",
    "\n",
    "#print(f_prom(1,2,3))"
   ]
  },
  {
   "cell_type": "code",
   "execution_count": 46,
   "metadata": {},
   "outputs": [
    {
     "name": "stdout",
     "output_type": "stream",
     "text": [
      "\"Reporte:\n",
      "    Tanque 1: 1%\n",
      "    Tanque 2: 2% \n",
      "    Tanque 3: 3% \n",
      " Combustible: 2.0 Litros\n"
     ]
    }
   ],
   "source": [
    "#Función informe:\n",
    "\n",
    "def f_combustible (lec1, lec2, lec3):\n",
    "    return f\"\"\"\"Reporte:\n",
    "    Tanque 1: {lec1}%\n",
    "    Tanque 2: {lec2}% \n",
    "    Tanque 3: {lec3}%\"\"\"\n",
    "\n",
    "# Llamar funciones\n",
    "print(f_combustible(1,2,3),'\\n',f_prom(1,2,3))"
   ]
  },
  {
   "cell_type": "markdown",
   "metadata": {},
   "source": [
    "## Ejercicio 2: Trabajo con argumentos de palabra clave"
   ]
  },
  {
   "cell_type": "code",
   "execution_count": 49,
   "metadata": {},
   "outputs": [
    {
     "name": "stdout",
     "output_type": "stream",
     "text": [
      "\"\n",
      "    Reporte:\n",
      "    Tiempo de vuelo: (20, 15) Minutos\n",
      "    Destino: mi casa\n",
      "    Combustible en tanque: {'principal': 99, 'secundario': 0}% \n",
      "    \n"
     ]
    }
   ],
   "source": [
    "def f_completa (destino, *Tvuelo, **tanque):\n",
    "    return f\"\"\"\"\n",
    "    Reporte:\n",
    "    Tiempo de vuelo: {Tvuelo} Minutos\n",
    "    Destino: {destino}\n",
    "    Combustible en tanque: {tanque}% \n",
    "    \"\"\"\n",
    "\n",
    "print(f_completa(\"mi casa\", 20, 15, principal=99, secundario=0))"
   ]
  }
 ],
 "metadata": {
  "interpreter": {
   "hash": "5b5f4bbf40c71bff6d8cff5d32a1db518816640eb9d736357ec4eee60ab2ed6f"
  },
  "kernelspec": {
   "display_name": "Python 3.7.9 64-bit",
   "language": "python",
   "name": "python3"
  },
  "language_info": {
   "codemirror_mode": {
    "name": "ipython",
    "version": 3
   },
   "file_extension": ".py",
   "mimetype": "text/x-python",
   "name": "python",
   "nbconvert_exporter": "python",
   "pygments_lexer": "ipython3",
   "version": "3.7.9"
  },
  "orig_nbformat": 4
 },
 "nbformat": 4,
 "nbformat_minor": 2
}
